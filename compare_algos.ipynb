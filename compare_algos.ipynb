{
 "cells": [
  {
   "cell_type": "code",
   "execution_count": 14,
   "metadata": {
    "collapsed": true
   },
   "outputs": [],
   "source": [
    "import pandas as pd\n",
    "\n",
    "from algos import MySVD, MyPLSA, LDAAdapter\n",
    "from metrics import mean_average_precision\n",
    "from splitter import split\n",
    "from utils import Transformer, create_negative_examples"
   ]
  },
  {
   "cell_type": "code",
   "execution_count": 8,
   "metadata": {
    "collapsed": true
   },
   "outputs": [],
   "source": [
    "random_state = 50"
   ]
  },
  {
   "cell_type": "code",
   "execution_count": 9,
   "metadata": {
    "collapsed": true
   },
   "outputs": [],
   "source": [
    "df = pd.read_csv('data/small_data.csv')"
   ]
  },
  {
   "cell_type": "code",
   "execution_count": 10,
   "metadata": {
    "collapsed": false
   },
   "outputs": [],
   "source": [
    "df_train, df_test = split(df, test_size=0.5, random_state=random_state)"
   ]
  },
  {
   "cell_type": "code",
   "execution_count": 11,
   "metadata": {
    "collapsed": false
   },
   "outputs": [
    {
     "data": {
      "text/html": [
       "<div>\n",
       "<style scoped>\n",
       "    .dataframe tbody tr th:only-of-type {\n",
       "        vertical-align: middle;\n",
       "    }\n",
       "\n",
       "    .dataframe tbody tr th {\n",
       "        vertical-align: top;\n",
       "    }\n",
       "\n",
       "    .dataframe thead th {\n",
       "        text-align: right;\n",
       "    }\n",
       "</style>\n",
       "<table border=\"1\" class=\"dataframe\">\n",
       "  <thead>\n",
       "    <tr style=\"text-align: right;\">\n",
       "      <th></th>\n",
       "      <th>group</th>\n",
       "      <th>user</th>\n",
       "    </tr>\n",
       "  </thead>\n",
       "  <tbody>\n",
       "    <tr>\n",
       "      <th>21295</th>\n",
       "      <td>64180326</td>\n",
       "      <td>193032199</td>\n",
       "    </tr>\n",
       "    <tr>\n",
       "      <th>25417</th>\n",
       "      <td>48329519</td>\n",
       "      <td>115971270</td>\n",
       "    </tr>\n",
       "    <tr>\n",
       "      <th>132786</th>\n",
       "      <td>60958801</td>\n",
       "      <td>132225098</td>\n",
       "    </tr>\n",
       "    <tr>\n",
       "      <th>63930</th>\n",
       "      <td>89385533</td>\n",
       "      <td>6349270</td>\n",
       "    </tr>\n",
       "    <tr>\n",
       "      <th>29875</th>\n",
       "      <td>40207499</td>\n",
       "      <td>171585340</td>\n",
       "    </tr>\n",
       "  </tbody>\n",
       "</table>\n",
       "</div>"
      ],
      "text/plain": [
       "           group       user\n",
       "21295   64180326  193032199\n",
       "25417   48329519  115971270\n",
       "132786  60958801  132225098\n",
       "63930   89385533    6349270\n",
       "29875   40207499  171585340"
      ]
     },
     "execution_count": 11,
     "metadata": {},
     "output_type": "execute_result"
    }
   ],
   "source": [
    "df_train.head()"
   ]
  },
  {
   "cell_type": "code",
   "execution_count": 27,
   "metadata": {
    "collapsed": true
   },
   "outputs": [],
   "source": [
    "# подобрано в hyper_opt.ipynb\n",
    "svd_argmax_combo = {'num_topics': 3}"
   ]
  },
  {
   "cell_type": "code",
   "execution_count": 28,
   "metadata": {
    "collapsed": false
   },
   "outputs": [
    {
     "name": "stdout",
     "output_type": "stream",
     "text": [
      "SVD result: 0.17991243739157747\n"
     ]
    }
   ],
   "source": [
    "# SVD\n",
    "df_neg = create_negative_examples(df=df, df_train=df_train,\n",
    "                                  num_neg_exs=10*df_train.shape[0], random_state=random_state)\n",
    "svd = MySVD()\n",
    "svd.set_params(**svd_argmax_combo)\n",
    "\n",
    "svd.fit(df_train, df_neg)\n",
    "\n",
    "# transform df_test\n",
    "svd_group_encoder_dict = dict(zip(svd.group_encoder.classes_, list(range(len(svd.group_encoder.classes_)))))\n",
    "encoded_corpus_test = df_test.groupby(\"user\").agg(lambda x: [svd_group_encoder_dict[item] for item in x]).reset_index()\n",
    "\n",
    "encoded_corpus_test['recs'] = svd.predict(encoded_corpus_test.user.values)\n",
    "print('SVD result: {}'.format(mean_average_precision(encoded_corpus_test.group.values, encoded_corpus_test.recs.values)))"
   ]
  },
  {
   "cell_type": "code",
   "execution_count": 21,
   "metadata": {
    "collapsed": true
   },
   "outputs": [],
   "source": [
    "# подобрано в hyper_opt.ipynb\n",
    "plsa_argmax_combo = {'num_topics': 3}"
   ]
  },
  {
   "cell_type": "code",
   "execution_count": 29,
   "metadata": {
    "collapsed": false
   },
   "outputs": [
    {
     "name": "stdout",
     "output_type": "stream",
     "text": [
      "PLSA result: 0.151125658012547\n"
     ]
    }
   ],
   "source": [
    "# PLSA\n",
    "transformer = Transformer()\n",
    "transformer.fit(df)\n",
    "\n",
    "corpus_train = transformer.transform(df_train)\n",
    "corpus_test = transformer.transform(df_test)\n",
    "\n",
    "\n",
    "est = MyPLSA()\n",
    "est.set_params(**plsa_argmax_combo)\n",
    "\n",
    "num_groups = df.group.nunique()\n",
    "est.fit(corpus_train, num_groups)\n",
    "\n",
    "corpus_test['recs'] = est.predict(corpus_test.user.values)\n",
    "\n",
    "corpus_test['group'] = corpus_test.group.apply(lambda x: [item[0] for item in x])\n",
    "print('PLSA result: {}'.format(mean_average_precision(corpus_test.group.values, corpus_test.recs.values)))"
   ]
  },
  {
   "cell_type": "code",
   "execution_count": 23,
   "metadata": {
    "collapsed": true
   },
   "outputs": [],
   "source": [
    "# подобрано в hyper_opt.ipynb\n",
    "lda_argmax_combo = {'num_topics': 3}"
   ]
  },
  {
   "cell_type": "code",
   "execution_count": 30,
   "metadata": {
    "collapsed": false
   },
   "outputs": [
    {
     "name": "stdout",
     "output_type": "stream",
     "text": [
      "LDA result: 0.41391515219393127\n"
     ]
    }
   ],
   "source": [
    "# LDA\n",
    "transformer = Transformer()\n",
    "\n",
    "transformer.fit(df)\n",
    "\n",
    "corpus_train = transformer.transform(df_train)\n",
    "corpus_test = transformer.transform(df_test)\n",
    "\n",
    "\n",
    "est = LDAAdapter()\n",
    "est.set_params(**lda_argmax_combo)\n",
    "\n",
    "est.fit(corpus_train)\n",
    "\n",
    "corpus_test['recs'] = est.predict(corpus_test.user.values)\n",
    "\n",
    "corpus_test['group'] = corpus_test.group.apply(lambda x: [item[0] for item in x])\n",
    "print('LDA result: {}'.format(mean_average_precision(corpus_test.group.values, corpus_test.recs.values)))"
   ]
  },
  {
   "cell_type": "markdown",
   "metadata": {},
   "source": [
    "ВЫВОД:Лучше всех качество по метрике mean average precision даёт алгоритм, основанный на LDA. Возможно, это связано с тем, что другие алгоритмы я реализовывал сам и для ускорения обнаружения сходимости итеративных методов использовал не полное вычисление нормы Фробениуса матриц, а приближенные аналоги показателей сходимости (когда повысил точность идентификации сходимости в SVD, качество значительно выросло)."
   ]
  },
  {
   "cell_type": "code",
   "execution_count": null,
   "metadata": {
    "collapsed": true
   },
   "outputs": [],
   "source": []
  }
 ],
 "metadata": {
  "kernelspec": {
   "display_name": "Python 3",
   "language": "python",
   "name": "python3"
  },
  "language_info": {
   "codemirror_mode": {
    "name": "ipython",
    "version": 3
   },
   "file_extension": ".py",
   "mimetype": "text/x-python",
   "name": "python",
   "nbconvert_exporter": "python",
   "pygments_lexer": "ipython3",
   "version": "3.6.7"
  }
 },
 "nbformat": 4,
 "nbformat_minor": 2
}
