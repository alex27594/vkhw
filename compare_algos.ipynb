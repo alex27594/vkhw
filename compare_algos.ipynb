{
 "cells": [
  {
   "cell_type": "code",
   "execution_count": null,
   "metadata": {
    "collapsed": true
   },
   "outputs": [],
   "source": [
    "import pandas as pd\n",
    "\n",
    "from algos import MySVD, MyPLSA, LDAAdapter\n",
    "from splitter import split\n",
    "from utils import Transformer"
   ]
  },
  {
   "cell_type": "code",
   "execution_count": null,
   "metadata": {
    "collapsed": true
   },
   "outputs": [],
   "source": [
    "random_state = 50"
   ]
  },
  {
   "cell_type": "code",
   "execution_count": null,
   "metadata": {
    "collapsed": true
   },
   "outputs": [],
   "source": [
    "df = pd.read_csv('data/data.csv')"
   ]
  },
  {
   "cell_type": "code",
   "execution_count": null,
   "metadata": {
    "collapsed": false
   },
   "outputs": [],
   "source": [
    "df_train, df_test = split(df, test_size=0.5, random_state=random_state)"
   ]
  },
  {
   "cell_type": "code",
   "execution_count": null,
   "metadata": {
    "collapsed": true
   },
   "outputs": [],
   "source": [
    "# SVD\n",
    "df_neg = create_negative_examples(df=df, df_train=df_train,\n",
    "                                  num_neg_exs=df_train.shape[0], random_state=self.random_state)\n",
    "svd = MySVD(num_topics=10)\n",
    "\n",
    "svd.fit(df_train, df_neg)\n",
    "\n",
    "# transform df_test\n",
    "svd_group_encoder_dict = dict(zip(svd.group_encoder.classes_, list(range(len(svd.group_encoder.classes_)))))\n",
    "encoded_corpus_test = df_test.groupby(\"user\").agg(lambda x: [svd_group_encoder_dict[item] for item in x]).reset_index()\n",
    "\n",
    "encoded_corpus_test['recs'] = svd.predict(encoded_corpus_test.user.values)\n",
    "print(mean_average_precision(encoded_corpus_test.group.values, encoded_corpus_test.recs.values))"
   ]
  },
  {
   "cell_type": "code",
   "execution_count": null,
   "metadata": {
    "collapsed": true
   },
   "outputs": [],
   "source": [
    "# PLSA\n",
    "transformer = Transformer()\n",
    "\n",
    "corpus_train = transformer.transform(df_train)\n",
    "corpus_test = transformer.transform(df_test)\n",
    "\n",
    "\n",
    "est = MyPLSA(num_topics=10)\n",
    "\n",
    "num_groups = df.group.nunique()\n",
    "est.fit(corpus_train, num_groups)\n",
    "\n",
    "corpus_test['recs'] = est.predict(corpus_test.user.values)\n",
    "\n",
    "corpus_test['group'] = corpus_test.group.apply(lambda x: [item[0] for item in x])\n",
    "print(mean_average_precision(corpus_test.group.values, corpus_test.recs.values))"
   ]
  },
  {
   "cell_type": "code",
   "execution_count": null,
   "metadata": {
    "collapsed": true
   },
   "outputs": [],
   "source": [
    "# LDA\n",
    "transformer = Transformer()\n",
    "\n",
    "corpus_train = transformer.transform(df_train)\n",
    "corpus_test = transformer.transform(df_test)\n",
    "\n",
    "\n",
    "est = LDAAdapter(num_topics=10)\n",
    "\n",
    "est.fit(corpus_train)\n",
    "\n",
    "corpus_test['recs'] = est.predict(corpus_test.user.values)\n",
    "\n",
    "corpus_test['group'] = corpus_test.group.apply(lambda x: [item[0] for item in x])\n",
    "print(mean_average_precision(corpus_test.group.values, corpus_test.recs.values))"
   ]
  }
 ],
 "metadata": {
  "kernelspec": {
   "display_name": "Python 3",
   "language": "python",
   "name": "python3"
  },
  "language_info": {
   "codemirror_mode": {
    "name": "ipython",
    "version": 3
   },
   "file_extension": ".py",
   "mimetype": "text/x-python",
   "name": "python",
   "nbconvert_exporter": "python",
   "pygments_lexer": "ipython3",
   "version": "3.6.7"
  }
 },
 "nbformat": 4,
 "nbformat_minor": 2
}
