{
 "cells": [
  {
   "cell_type": "code",
   "execution_count": 17,
   "metadata": {
    "collapsed": true
   },
   "outputs": [],
   "source": [
    "import pandas as pd\n",
    "\n",
    "from grid_search import SVDHyperOptimizer, PLSALDAHyperOptimizer\n",
    "from splitter import split"
   ]
  },
  {
   "cell_type": "code",
   "execution_count": 18,
   "metadata": {
    "collapsed": true
   },
   "outputs": [],
   "source": [
    "random_state=50"
   ]
  },
  {
   "cell_type": "code",
   "execution_count": 19,
   "metadata": {
    "collapsed": false
   },
   "outputs": [],
   "source": [
    "df = pd.read_csv('data/small_data.csv')"
   ]
  },
  {
   "cell_type": "code",
   "execution_count": 20,
   "metadata": {
    "collapsed": false
   },
   "outputs": [],
   "source": [
    "# не тюним гиперпараметры алгоритмов на части данных, \n",
    "# предназначенной для финального сравнения производиетльности\n",
    "df_train, _ = split(df, test_size=0.4, random_state=random_state)"
   ]
  },
  {
   "cell_type": "code",
   "execution_count": 7,
   "metadata": {
    "collapsed": true
   },
   "outputs": [],
   "source": [
    "svd_opt = SVDHyperOptimizer(n_splits=3, K=10, random_state=random_state)"
   ]
  },
  {
   "cell_type": "code",
   "execution_count": 22,
   "metadata": {
    "collapsed": false
   },
   "outputs": [
    {
     "name": "stdout",
     "output_type": "stream",
     "text": [
      "{'num_topics': 3, 'exp_coef': 0.9, 'tol': 0.01}\n",
      "0 split\n",
      "score: 0.04204493305949457\n",
      "1 split\n",
      "score: 0.03947219931773171\n",
      "2 split\n",
      "score: 0.04320789255135224\n",
      "{'num_topics': 3, 'exp_coef': 0.9, 'tol': 1e-05}\n",
      "0 split\n",
      "score: 0.04204493305949457\n",
      "1 split\n",
      "score: 0.03945578556557651\n",
      "2 split\n",
      "score: 0.04320789255135224\n",
      "{'num_topics': 3, 'exp_coef': 0.9999, 'tol': 0.01}\n",
      "0 split\n",
      "score: 0.17279362804595771\n",
      "1 split\n",
      "score: 0.19916120391168046\n",
      "2 split\n",
      "score: 0.17137501653366774\n",
      "{'num_topics': 3, 'exp_coef': 0.9999, 'tol': 1e-05}\n",
      "0 split\n",
      "score: 0.16939578672087283\n",
      "1 split\n",
      "score: 0.15606478626915976\n",
      "2 split\n",
      "score: 0.15181861179620176\n",
      "{'num_topics': 5, 'exp_coef': 0.9, 'tol': 0.01}\n",
      "0 split\n",
      "score: 0.04090265828468315\n",
      "1 split\n",
      "score: 0.04038148754403513\n",
      "2 split\n",
      "score: 0.04049728402899055\n",
      "{'num_topics': 5, 'exp_coef': 0.9, 'tol': 1e-05}\n",
      "0 split\n",
      "score: 0.04090265828468315\n",
      "1 split\n",
      "score: 0.04038148754403513\n",
      "2 split\n",
      "score: 0.04049728402899055\n",
      "{'num_topics': 5, 'exp_coef': 0.9999, 'tol': 0.01}\n",
      "0 split\n",
      "score: 0.1335016679611191\n",
      "1 split\n",
      "score: 0.1791184588309126\n",
      "2 split\n",
      "score: 0.16069727567818615\n",
      "{'num_topics': 5, 'exp_coef': 0.9999, 'tol': 1e-05}\n",
      "0 split\n",
      "score: 0.16721761784524256\n",
      "1 split\n",
      "score: 0.15880216888534487\n",
      "2 split\n",
      "score: 0.16290924519261138\n",
      "{'num_topics': 10, 'exp_coef': 0.9, 'tol': 0.01}\n",
      "0 split\n",
      "score: 0.03690575610085029\n",
      "1 split\n",
      "score: 0.03600554927551127\n",
      "2 split\n",
      "score: 0.0361236065776239\n",
      "{'num_topics': 10, 'exp_coef': 0.9, 'tol': 1e-05}\n",
      "0 split\n",
      "score: 0.03690575610085029\n",
      "1 split\n",
      "score: 0.03600554927551127\n",
      "2 split\n",
      "score: 0.0361236065776239\n",
      "{'num_topics': 10, 'exp_coef': 0.9999, 'tol': 0.01}\n",
      "0 split\n",
      "score: 0.12196663393977601\n",
      "1 split\n",
      "score: 0.16690056376764395\n",
      "2 split\n",
      "score: 0.1646734156171419\n",
      "{'num_topics': 10, 'exp_coef': 0.9999, 'tol': 1e-05}\n",
      "0 split\n",
      "score: 0.12276534406428743\n",
      "1 split\n",
      "score: 0.12023541772353552\n",
      "2 split\n",
      "score: 0.14011496863873052\n"
     ]
    }
   ],
   "source": [
    "# вообще никогда не подбирал grid search-ем параметры, отвечающие за точность вычислений(exp_coef, tol)\n",
    "# сделал это здесь только для демонстрации возможностей самодельного grid search-а\n",
    "# и чтобы показать, что при повышении уровня точности качество алгоритма растёт\n",
    "grid_scores_svd = svd_opt.search(df_train, params={'num_topics': [3, 5, 10], 'exp_coef': [0.9, 0.9999], 'tol': [0.01, 0.00001]})"
   ]
  },
  {
   "cell_type": "code",
   "execution_count": 23,
   "metadata": {
    "collapsed": false
   },
   "outputs": [
    {
     "data": {
      "text/plain": [
       "[TopItem(combo={'num_topics': 3, 'exp_coef': 0.9999, 'tol': 0.01}, score=0.181109949497102),\n",
       " TopItem(combo={'num_topics': 5, 'exp_coef': 0.9999, 'tol': 1e-05}, score=0.1629763439743996),\n",
       " TopItem(combo={'num_topics': 3, 'exp_coef': 0.9999, 'tol': 1e-05}, score=0.15909306159541145),\n",
       " TopItem(combo={'num_topics': 5, 'exp_coef': 0.9999, 'tol': 0.01}, score=0.1577724674900726),\n",
       " TopItem(combo={'num_topics': 10, 'exp_coef': 0.9999, 'tol': 0.01}, score=0.1511802044415206),\n",
       " TopItem(combo={'num_topics': 10, 'exp_coef': 0.9999, 'tol': 1e-05}, score=0.12770524347551782),\n",
       " TopItem(combo={'num_topics': 3, 'exp_coef': 0.9, 'tol': 0.01}, score=0.04157500830952617),\n",
       " TopItem(combo={'num_topics': 3, 'exp_coef': 0.9, 'tol': 1e-05}, score=0.041569537058807775),\n",
       " TopItem(combo={'num_topics': 5, 'exp_coef': 0.9, 'tol': 0.01}, score=0.04059380995256961),\n",
       " TopItem(combo={'num_topics': 5, 'exp_coef': 0.9, 'tol': 1e-05}, score=0.04059380995256961),\n",
       " TopItem(combo={'num_topics': 10, 'exp_coef': 0.9, 'tol': 0.01}, score=0.03634497065132849),\n",
       " TopItem(combo={'num_topics': 10, 'exp_coef': 0.9, 'tol': 1e-05}, score=0.03634497065132849)]"
      ]
     },
     "execution_count": 23,
     "metadata": {},
     "output_type": "execute_result"
    }
   ],
   "source": [
    "grid_scores_svd"
   ]
  },
  {
   "cell_type": "code",
   "execution_count": 24,
   "metadata": {
    "collapsed": false
   },
   "outputs": [
    {
     "data": {
      "text/plain": [
       "{'exp_coef': 0.9999, 'num_topics': 3, 'tol': 0.01}"
      ]
     },
     "execution_count": 24,
     "metadata": {},
     "output_type": "execute_result"
    }
   ],
   "source": [
    "max(grid_scores_svd, key=lambda item: item.score).combo"
   ]
  },
  {
   "cell_type": "code",
   "execution_count": 10,
   "metadata": {
    "collapsed": true
   },
   "outputs": [],
   "source": [
    "lda_opt = PLSALDAHyperOptimizer(n_splits=3, K=10, random_state=random_state)"
   ]
  },
  {
   "cell_type": "code",
   "execution_count": 11,
   "metadata": {
    "collapsed": false
   },
   "outputs": [
    {
     "name": "stdout",
     "output_type": "stream",
     "text": [
      "{'num_topics': 3}\n",
      "0 split\n",
      "score: 0.2932223178166957\n",
      "1 split\n",
      "score: 0.291304784211154\n",
      "2 split\n",
      "score: 0.29725969544694464\n",
      "{'num_topics': 5}\n",
      "0 split\n",
      "score: 0.275114325780016\n",
      "1 split\n",
      "score: 0.226882862289231\n",
      "2 split\n",
      "score: 0.26650382736550055\n",
      "{'num_topics': 10}\n",
      "0 split\n",
      "score: 0.21228974631446762\n",
      "1 split\n",
      "score: 0.19365500855282297\n",
      "2 split\n",
      "score: 0.18019895875343278\n"
     ]
    }
   ],
   "source": [
    "grid_scores_lda = lda_opt.search(df_train, algotype='lda', params={'num_topics': [3, 5, 10]})"
   ]
  },
  {
   "cell_type": "code",
   "execution_count": 12,
   "metadata": {
    "collapsed": false
   },
   "outputs": [
    {
     "data": {
      "text/plain": [
       "[TopItem(combo={'num_topics': 3}, score=0.2939289324915981),\n",
       " TopItem(combo={'num_topics': 5}, score=0.25616700514491586),\n",
       " TopItem(combo={'num_topics': 10}, score=0.19538123787357445)]"
      ]
     },
     "execution_count": 12,
     "metadata": {},
     "output_type": "execute_result"
    }
   ],
   "source": [
    "grid_scores_lda"
   ]
  },
  {
   "cell_type": "code",
   "execution_count": 14,
   "metadata": {
    "collapsed": false
   },
   "outputs": [
    {
     "data": {
      "text/plain": [
       "{'num_topics': 3}"
      ]
     },
     "execution_count": 14,
     "metadata": {},
     "output_type": "execute_result"
    }
   ],
   "source": [
    "max(grid_scores_lda, key=lambda item: item.score).combo"
   ]
  },
  {
   "cell_type": "code",
   "execution_count": 13,
   "metadata": {
    "collapsed": true
   },
   "outputs": [],
   "source": [
    "plsa_opt = PLSALDAHyperOptimizer(n_splits=3, K=10, random_state=random_state)"
   ]
  },
  {
   "cell_type": "code",
   "execution_count": 14,
   "metadata": {
    "collapsed": false
   },
   "outputs": [
    {
     "name": "stdout",
     "output_type": "stream",
     "text": [
      "{'num_topics': 3}\n",
      "0 split\n",
      "score: 0.13694535841429\n",
      "1 split\n",
      "score: 0.1360333510452334\n",
      "2 split\n",
      "score: 0.1373349401876958\n",
      "{'num_topics': 5}\n",
      "0 split\n",
      "score: 0.1304559159169407\n",
      "1 split\n",
      "score: 0.13076300669218963\n",
      "2 split\n",
      "score: 0.13541736830996537\n",
      "{'num_topics': 10}\n",
      "0 split\n",
      "score: 0.10254238585938286\n",
      "1 split\n",
      "score: 0.10582972978410222\n",
      "2 split\n",
      "score: 0.10408329354828996\n"
     ]
    }
   ],
   "source": [
    "grid_scores_plsa = plsa_opt.search(df_train, algotype='plsa', params={'num_topics': [3, 5, 10]})"
   ]
  },
  {
   "cell_type": "code",
   "execution_count": 15,
   "metadata": {
    "collapsed": false
   },
   "outputs": [
    {
     "data": {
      "text/plain": [
       "[TopItem(combo={'num_topics': 3}, score=0.13677121654907307),\n",
       " TopItem(combo={'num_topics': 5}, score=0.1322120969730319),\n",
       " TopItem(combo={'num_topics': 10}, score=0.10415180306392502)]"
      ]
     },
     "execution_count": 15,
     "metadata": {},
     "output_type": "execute_result"
    }
   ],
   "source": [
    "grid_scores_plsa"
   ]
  },
  {
   "cell_type": "code",
   "execution_count": 15,
   "metadata": {
    "collapsed": false
   },
   "outputs": [
    {
     "data": {
      "text/plain": [
       "{'num_topics': 3}"
      ]
     },
     "execution_count": 15,
     "metadata": {},
     "output_type": "execute_result"
    }
   ],
   "source": [
    "max(grid_scores_plsa, key=lambda item: item.score).combo"
   ]
  },
  {
   "cell_type": "code",
   "execution_count": null,
   "metadata": {
    "collapsed": true
   },
   "outputs": [],
   "source": []
  }
 ],
 "metadata": {
  "kernelspec": {
   "display_name": "Python 3",
   "language": "python",
   "name": "python3"
  },
  "language_info": {
   "codemirror_mode": {
    "name": "ipython",
    "version": 3
   },
   "file_extension": ".py",
   "mimetype": "text/x-python",
   "name": "python",
   "nbconvert_exporter": "python",
   "pygments_lexer": "ipython3",
   "version": "3.6.7"
  }
 },
 "nbformat": 4,
 "nbformat_minor": 2
}
